{
 "cells": [
  {
   "cell_type": "code",
   "execution_count": 6,
   "metadata": {},
   "outputs": [
    {
     "name": "stdout",
     "output_type": "stream",
     "text": [
      "[0.        0.        1.2297444] [0.         0.         2.45948881]\n"
     ]
    }
   ],
   "source": [
    "from B_field_sources import create_coil, magpy, change_coil_current\n",
    "\n",
    "coil = create_coil(20, 20, 0.1, current=1)\n",
    "B_before = magpy.getB(coil, (0, 0, 0))\n",
    "\n",
    "change_coil_current(coil, 2)\n",
    "\n",
    "B_after = magpy.getB(coil, (0, 0, 0))\n",
    "print(B_before, B_after)\n"
   ]
  },
  {
   "cell_type": "code",
   "execution_count": 1,
   "metadata": {},
   "outputs": [
    {
     "name": "stdout",
     "output_type": "stream",
     "text": [
      "[Collection(id=2476042542368, label='x'), Collection(id=2476043397648, label='y'), Collection(id=2474412292704, label='main'), Collection(id=2474412442672, label='z')]\n",
      "{None: Collection(id=2474412445120), 'x': Collection(id=2476042542368, label='x'), 'y': Collection(id=2476043397648, label='y'), 'main': Collection(id=2474412292704, label='main'), 'z': Collection(id=2474412442672, label='z')}\n"
     ]
    }
   ],
   "source": [
    "from B_field_sources import experimental_setup, get_current_in_coil, change_coil_current, make_coil_dict\n",
    "\n",
    "coils = experimental_setup()\n",
    "change_currents_to = [0, 1, 2, 3]\n",
    "print(coils.collections_all[2:])\n",
    "for i, coil in enumerate(coils.collections_all[2:]):\n",
    "    change_coil_current(coil, change_currents_to[i])\n",
    "\n",
    "\n",
    "print(make_coil_dict(coils))\n",
    "    \n",
    "\n"
   ]
  }
 ],
 "metadata": {
  "kernelspec": {
   "display_name": "Python 3",
   "language": "python",
   "name": "python3"
  },
  "language_info": {
   "codemirror_mode": {
    "name": "ipython",
    "version": 3
   },
   "file_extension": ".py",
   "mimetype": "text/x-python",
   "name": "python",
   "nbconvert_exporter": "python",
   "pygments_lexer": "ipython3",
   "version": "3.10.4"
  },
  "orig_nbformat": 4
 },
 "nbformat": 4,
 "nbformat_minor": 2
}
